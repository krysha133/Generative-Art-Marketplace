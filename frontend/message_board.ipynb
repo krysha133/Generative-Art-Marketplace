{
 "cells": [
  {
   "cell_type": "code",
   "execution_count": 1,
   "metadata": {},
   "outputs": [],
   "source": [
    "import sys\n",
    "import requests\n",
    "from dotenv import load_dotenv\n",
    "from crypto import convertDataToJSON, pinJSONtoIPFS, initContract, w3"
   ]
  },
  {
   "cell_type": "code",
   "execution_count": 2,
   "metadata": {
    "scrolled": true
   },
   "outputs": [
    {
     "name": "stdout",
     "output_type": "stream",
     "text": [
      "Contract Address 0x5A82ddFE2E00a3FCcdEA2cD10e110B72e4535677\n"
     ]
    }
   ],
   "source": [
    "smart_contract = initContract()"
   ]
  },
  {
   "cell_type": "code",
   "execution_count": 4,
   "metadata": {},
   "outputs": [],
   "source": [
    "def createNewMessage():\n",
    "    title = input(\"Enter a message title: \")\n",
    "    message = input(\"Enter a message body: \")\n",
    "    tags = input(\"Enter a comma seperated lsit of tags.\")\n",
    "    \n",
    "    message_object = {\n",
    "            \"title\": title,\n",
    "            \"message\": message,\n",
    "            \"tags\": tags,\n",
    "    }\n",
    "\n",
    "    return message_object"
   ]
  },
  {
   "cell_type": "code",
   "execution_count": 5,
   "metadata": {},
   "outputs": [],
   "source": [
    "def postMessage():\n",
    "    message_object = createNewMessage() # Create New Message Object\n",
    "    json_data = convertDataToJSON(message_object) # Convert essage object to JSON\n",
    "    message_uri = pinJSONtoIPFS(json_data) # Pin JSON to IPFS and get Hash\n",
    "    \n",
    "    tx_hash = smart_contract.functions.postMessage(str(message_uri)).transact(\n",
    "        {\"from\": w3.eth.accounts[0]}\n",
    "    )\n",
    "\n",
    "    receipt = w3.eth.waitForTransactionReceipt(tx_hash)\n",
    "    return receipt"
   ]
  },
  {
   "cell_type": "code",
   "execution_count": 6,
   "metadata": {},
   "outputs": [],
   "source": [
    "def getLatestMessage():\n",
    "    ipfs_hash = smart_contract.functions.getLatestMessage().call()\n",
    "    message = requests.get(f\"https://cloudflare-ipfs.com/ipfs/{ipfs_hash}\")\n",
    "    return message.json()"
   ]
  },
  {
   "cell_type": "code",
   "execution_count": 7,
   "metadata": {},
   "outputs": [],
   "source": [
    "def getMessageByID(message_id):\n",
    "    ipfs_hash = smart_contract.functions.messages(message_id).call()\n",
    "    message = requests.get(f\"https://cloudflare-ipfs.com/ipfs/{ipfs_hash}\")\n",
    "    return message.json()"
   ]
  },
  {
   "cell_type": "code",
   "execution_count": 10,
   "metadata": {
    "scrolled": true
   },
   "outputs": [
    {
     "name": "stdout",
     "output_type": "stream",
     "text": [
      "Would you like to get or post a message?post\n",
      "Enter a message title: Looking to buy asparagus\n",
      "Enter a message body: I need 8 fully grow asparagus plants to save my mother, please help. Will pay top dollar.\n",
      "Enter a comma seperated lsit of tags.asparagus\n"
     ]
    }
   ],
   "source": [
    "option = input(\"Would you like to get or post a message?\")\n",
    "\n",
    "if option == \"post\":\n",
    "    postMessage()\n",
    "\n",
    "if option == \"get\":\n",
    "    message_id = input(\"Enter a message ID to retive the message. Hit enter to get the latest.\")\n",
    "\n",
    "    if (message_id):\n",
    "        print(getMessageByID(int(message_id)))\n",
    "    else:\n",
    "        print(getLatestMessage())"
   ]
  },
  {
   "cell_type": "code",
   "execution_count": null,
   "metadata": {},
   "outputs": [],
   "source": []
  }
 ],
 "metadata": {
  "kernelspec": {
   "display_name": "Python 3",
   "language": "python",
   "name": "python3"
  },
  "language_info": {
   "codemirror_mode": {
    "name": "ipython",
    "version": 3
   },
   "file_extension": ".py",
   "mimetype": "text/x-python",
   "name": "python",
   "nbconvert_exporter": "python",
   "pygments_lexer": "ipython3",
   "version": "3.8.5"
  }
 },
 "nbformat": 4,
 "nbformat_minor": 4
}
