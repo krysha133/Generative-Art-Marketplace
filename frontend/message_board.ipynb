{
 "cells": [
  {
   "cell_type": "code",
   "execution_count": 1,
   "metadata": {},
   "outputs": [],
   "source": [
    "import sys\n",
    "import requests\n",
    "from dotenv import load_dotenv\n",
    "from crypto import convertDataToJSON, pinJSONtoIPFS, initContract, w3, pinFiletoIPFS"
   ]
  },
  {
   "cell_type": "code",
   "execution_count": 2,
   "metadata": {
    "scrolled": true
   },
   "outputs": [
    {
     "name": "stdout",
     "output_type": "stream",
     "text": [
      "Contract Address 0x4C7D27a202Cca3b59c7a58320353845D0eB46d48\n"
     ]
    }
   ],
   "source": [
    "smart_contract = initContract()"
   ]
  },
  {
   "cell_type": "code",
   "execution_count": 6,
   "metadata": {},
   "outputs": [],
   "source": [
    "def registerArtwork():\n",
    "    title = input(\"Enter a title for the artwork: \")\n",
    "    description = input(\"Enter a description for the artwork: \")\n",
    "    artists = input(\"Enter a comma seperated list of artists:\")\n",
    "    file_ipfs = input(\"Enter Image IPFS link:\")\n",
    "    \n",
    "    message_object = {\n",
    "            \"title\": title,\n",
    "            \"description\": description,\n",
    "            \"artists\": artists,\n",
    "            \"file_ipfs\": file_ipfs,\n",
    "    }\n",
    "\n",
    "    return message_object"
   ]
  },
  {
   "cell_type": "code",
   "execution_count": 7,
   "metadata": {},
   "outputs": [],
   "source": [
    "def postArtwork():\n",
    "    message_object = registerArtwork() # Create New Message Object\n",
    "    json_data = convertDataToJSON(message_object) # Convert message object to JSON\n",
    "    message_uri = pinJSONtoIPFS(json_data) # Pin JSON to IPFS and get Hash\n",
    "    \n",
    "    tx_hash = smart_contract.functions.registerArt(str(message_uri)).transact(\n",
    "        {\"from\": w3.eth.accounts[0]}\n",
    "    )\n",
    "    #logs = w3.eth.get_logs()\n",
    "    receipt = w3.eth.waitForTransactionReceipt(tx_hash)   \n",
    "    return receipt #logs"
   ]
  },
  {
   "cell_type": "code",
   "execution_count": 8,
   "metadata": {},
   "outputs": [],
   "source": [
    "def getLatestArtwork():\n",
    "    ipfs_hash = smart_contract.functions.bid(token_id).call()\n",
    "    message = requests.get(f\"https://cloudflare-ipfs.com/ipfs/{ipfs_hash}\")\n",
    "    return message.json()"
   ]
  },
  {
   "cell_type": "code",
   "execution_count": 9,
   "metadata": {},
   "outputs": [],
   "source": [
    "def getArtworkByID(message_id):\n",
    "    ipfs_hash = smart_contract.functions.highestBid(message_id).call()\n",
    "    message = requests.get(f\"https://cloudflare-ipfs.com/ipfs/{ipfs_hash}\")\n",
    "    return message.json() "
   ]
  },
  {
   "cell_type": "code",
   "execution_count": 10,
   "metadata": {
    "scrolled": true
   },
   "outputs": [
    {
     "name": "stdin",
     "output_type": "stream",
     "text": [
      "Would you like to get or post Artwork? post\n",
      "Enter a title for the artwork:  Pretty Colors\n",
      "Enter a description for the artwork:  Expanded original image\n",
      "Enter a comma seperated list of artists: me, amila and etc\n",
      "Enter Image IPFS link: ipfs://bafybeia54ofch35rdwxtgvh465ih67mfteg7tofmvyumjazsdk7caor72e\n"
     ]
    },
    {
     "name": "stdout",
     "output_type": "stream",
     "text": [
      "bafkreihpp6ltezf7tjgoj2dswsrzjoo3tt3dyqvgfqrpxcxlvu6wjj4b2a\n"
     ]
    }
   ],
   "source": [
    "option = input(\"Would you like to get or post Artwork?\")\n",
    "\n",
    "if option == \"post\":\n",
    "    postArtwork()\n",
    "\n",
    "if option == \"get\": #get not functional refer to pullUri function\n",
    "    token_id = input(\"Enter artwork ID to retrieve the artwork. Hit enter to get the latest.\")\n",
    "\n",
    "    if (token_id):\n",
    "        print(getArtworkByID(int(token_id)))\n",
    "    else:\n",
    "        print(getLatestArtwork())"
   ]
  },
  {
   "cell_type": "code",
   "execution_count": 11,
   "metadata": {},
   "outputs": [],
   "source": [
    "def auctionCreate(token_id):\n",
    "    tx_hash = smart_contract.functions.createAuction(token_id).transact(\n",
    "        {\"from\": w3.eth.accounts[0]}\n",
    "    )\n",
    "    receipt = w3.eth.waitForTransactionReceipt(tx_hash)   #waitFor\n",
    "    return receipt #logs"
   ]
  },
  {
   "cell_type": "code",
   "execution_count": 12,
   "metadata": {},
   "outputs": [
    {
     "data": {
      "text/plain": [
       "AttributeDict({'transactionHash': HexBytes('0xbd32dbb0084ec2bad074432cb767bf1ce3e4fad45b93fd7ada9735796012e363'),\n",
       " 'transactionIndex': 0,\n",
       " 'blockHash': HexBytes('0x15bff0ebe0a151a560448cc506a76f20c14f21cec1d3970ab8d27f9ac0aa552c'),\n",
       " 'blockNumber': 82,\n",
       " 'from': '0xbA58F51e201390af6F13AcA36b09c58A59Df7006',\n",
       " 'to': '0x4C7D27a202Cca3b59c7a58320353845D0eB46d48',\n",
       " 'gasUsed': 562395,\n",
       " 'cumulativeGasUsed': 562395,\n",
       " 'contractAddress': None,\n",
       " 'logs': [],\n",
       " 'status': 1,\n",
       " 'logsBloom': HexBytes('0x00000000000000000000000000000000000000000000000000000000000000000000000000000000000000000000000000000000000000000000000000000000000000000000000000000000000000000000000000000000000000000000000000000000000000000000000000000000000000000000000000000000000000000000000000000000000000000000000000000000000000000000000000000000000000000000000000000000000000000000000000000000000000000000000000000000000000000000000000000000000000000000000000000000000000000000000000000000000000000000000000000000000000000000000000000000')})"
      ]
     },
     "execution_count": 12,
     "metadata": {},
     "output_type": "execute_result"
    }
   ],
   "source": [
    "auctionCreate(1)"
   ]
  },
  {
   "cell_type": "code",
   "execution_count": 13,
   "metadata": {},
   "outputs": [],
   "source": [
    "def placeBid(token_id):\n",
    "    tx_hash = smart_contract.functions.bid(token_id).transact(\n",
    "    {\"from\": w3.eth.accounts[0],\n",
    "     'value': 1000000 #Must hardcode bid value\n",
    "    })\n",
    "    receipt = w3.eth.waitForTransactionReceipt(tx_hash)\n",
    "    return receipt"
   ]
  },
  {
   "cell_type": "code",
   "execution_count": 14,
   "metadata": {},
   "outputs": [
    {
     "data": {
      "text/plain": [
       "AttributeDict({'transactionHash': HexBytes('0x75c2a1ca42c420a253b8bcc8634a95c0f2d2ac1b1f2c274fcfa03eeb7770e25b'),\n",
       " 'transactionIndex': 0,\n",
       " 'blockHash': HexBytes('0x94819e9e75baaf719fa2727f662bfbe431269d2c35a65c427a11bbe3e59d6aec'),\n",
       " 'blockNumber': 83,\n",
       " 'from': '0xbA58F51e201390af6F13AcA36b09c58A59Df7006',\n",
       " 'to': '0x4C7D27a202Cca3b59c7a58320353845D0eB46d48',\n",
       " 'gasUsed': 76693,\n",
       " 'cumulativeGasUsed': 76693,\n",
       " 'contractAddress': None,\n",
       " 'logs': [AttributeDict({'logIndex': 0,\n",
       "   'transactionIndex': 0,\n",
       "   'transactionHash': HexBytes('0x75c2a1ca42c420a253b8bcc8634a95c0f2d2ac1b1f2c274fcfa03eeb7770e25b'),\n",
       "   'blockHash': HexBytes('0x94819e9e75baaf719fa2727f662bfbe431269d2c35a65c427a11bbe3e59d6aec'),\n",
       "   'blockNumber': 83,\n",
       "   'address': '0x6B62A835a2B17194B396bFeaE9E8cc8D2f2A23D4',\n",
       "   'data': '0x000000000000000000000000ba58f51e201390af6f13aca36b09c58a59df700600000000000000000000000000000000000000000000000000000000000f4240',\n",
       "   'topics': [HexBytes('0xf4757a49b326036464bec6fe419a4ae38c8a02ce3e68bf0809674f6aab8ad300')],\n",
       "   'type': 'mined'})],\n",
       " 'status': 1,\n",
       " 'logsBloom': HexBytes('0x00000000000000000000000000800000000000000000000000000000000000000000000000000000000000000000000000000000000000000000000000000000000000000000000000000000000000000000000000000400000000000000000000000000000000000000000000000000000000000000000000000000000000000000000000000010000000000000000000000000000000000000000000000000000000000000000000000000000000000000000000000000000100800000000000000000000000000000000000000000000000000000000000000000000000000000000000000200000000000000000000000000000000000000000000000000')})"
      ]
     },
     "execution_count": 14,
     "metadata": {},
     "output_type": "execute_result"
    }
   ],
   "source": [
    "placeBid(1)"
   ]
  },
  {
   "cell_type": "code",
   "execution_count": 15,
   "metadata": {},
   "outputs": [],
   "source": [
    "def closeAuction(token_id):\n",
    "    tx_hash = smart_contract.functions.endAuction(token_id).transact({\"from\": w3.eth.accounts[0]})\n",
    "    receipt = w3.eth.waitForTransactionReceipt(tx_hash)\n",
    "    return receipt"
   ]
  },
  {
   "cell_type": "code",
   "execution_count": 16,
   "metadata": {},
   "outputs": [
    {
     "data": {
      "text/plain": [
       "AttributeDict({'transactionHash': HexBytes('0x3895c4353180e31031a60632b7196d9daf722a1e55f6d4e0d68058cfbc229945'),\n",
       " 'transactionIndex': 0,\n",
       " 'blockHash': HexBytes('0xbaed3288766a3dda7cad1f8c881877b948fe9f0f4a4f5454c513745bd9a5a353'),\n",
       " 'blockNumber': 84,\n",
       " 'from': '0xbA58F51e201390af6F13AcA36b09c58A59Df7006',\n",
       " 'to': '0x4C7D27a202Cca3b59c7a58320353845D0eB46d48',\n",
       " 'gasUsed': 87290,\n",
       " 'cumulativeGasUsed': 87290,\n",
       " 'contractAddress': None,\n",
       " 'logs': [AttributeDict({'logIndex': 0,\n",
       "   'transactionIndex': 0,\n",
       "   'transactionHash': HexBytes('0x3895c4353180e31031a60632b7196d9daf722a1e55f6d4e0d68058cfbc229945'),\n",
       "   'blockHash': HexBytes('0xbaed3288766a3dda7cad1f8c881877b948fe9f0f4a4f5454c513745bd9a5a353'),\n",
       "   'blockNumber': 84,\n",
       "   'address': '0x6B62A835a2B17194B396bFeaE9E8cc8D2f2A23D4',\n",
       "   'data': '0x000000000000000000000000ba58f51e201390af6f13aca36b09c58a59df700600000000000000000000000000000000000000000000000000000000000f4240',\n",
       "   'topics': [HexBytes('0xdaec4582d5d9595688c8c98545fdd1c696d41c6aeaeb636737e84ed2f5c00eda')],\n",
       "   'type': 'mined'}),\n",
       "  AttributeDict({'logIndex': 1,\n",
       "   'transactionIndex': 0,\n",
       "   'transactionHash': HexBytes('0x3895c4353180e31031a60632b7196d9daf722a1e55f6d4e0d68058cfbc229945'),\n",
       "   'blockHash': HexBytes('0xbaed3288766a3dda7cad1f8c881877b948fe9f0f4a4f5454c513745bd9a5a353'),\n",
       "   'blockNumber': 84,\n",
       "   'address': '0x4C7D27a202Cca3b59c7a58320353845D0eB46d48',\n",
       "   'data': '0x',\n",
       "   'topics': [HexBytes('0xddf252ad1be2c89b69c2b068fc378daa952ba7f163c4a11628f55a4df523b3ef'),\n",
       "    HexBytes('0x000000000000000000000000ba58f51e201390af6f13aca36b09c58a59df7006'),\n",
       "    HexBytes('0x000000000000000000000000ba58f51e201390af6f13aca36b09c58a59df7006'),\n",
       "    HexBytes('0x0000000000000000000000000000000000000000000000000000000000000001')],\n",
       "   'type': 'mined'})],\n",
       " 'status': 1,\n",
       " 'logsBloom': HexBytes('0x00000000000000000000000000000000000000000000000000000000000000800000000000000000000000004000000000000000000000000000000000040000000000000000000000000008000000000000000000040000000000000000000000000000000100000000000000000000000000000000100000000010000000000000000000000010000000000000000000000000000000000001000000000000000000000000000000000000000000000000000000000000000000800040000000000002002000000000001000000000000000000000000000000000000040000000000004000200000000000000000000000000000000000000000000000000')})"
      ]
     },
     "execution_count": 16,
     "metadata": {},
     "output_type": "execute_result"
    }
   ],
   "source": [
    "closeAuction(1)"
   ]
  },
  {
   "cell_type": "code",
   "execution_count": 16,
   "metadata": {},
   "outputs": [],
   "source": [
    "# Not functional due to openZeppelin having multiple safeTransferFrom\n",
    "#def transfer(token_id):\n",
    "   # tx_hash = smart_contract.functions.safeTransferFrom(token_id).transact(\n",
    "    #{\"from\": w3.eth.accounts[0],\n",
    "     #'to': w3.eth.accounts[1]\n",
    "#Must hardcode bid value\n",
    "    #})\n",
    "    #receipt = w3.eth.waitForTransactionReceipt(tx_hash)\n",
    "    #return receipt"
   ]
  },
  {
   "cell_type": "code",
   "execution_count": 17,
   "metadata": {},
   "outputs": [],
   "source": [
    "def pullUri(token_id):\n",
    "    tx_hash = smart_contract.functions.tokenURI(token_id).call()\n",
    "    receipt = w3.eth.waitForTransactionReceipt(tx_hash)\n",
    "    return receipt"
   ]
  },
  {
   "cell_type": "code",
   "execution_count": 18,
   "metadata": {},
   "outputs": [
    {
     "ename": "ValueError",
     "evalue": "when sending a str, it must be a hex string. Got: 'bafkreihpp6ltezf7tjgoj2dswsrzjoo3tt3dyqvgfqrpxcxlvu6wjj4b2a'",
     "output_type": "error",
     "traceback": [
      "\u001b[1;31m---------------------------------------------------------------------------\u001b[0m",
      "\u001b[1;31mValueError\u001b[0m                                Traceback (most recent call last)",
      "\u001b[1;32m<ipython-input-18-3202dbe05d36>\u001b[0m in \u001b[0;36m<module>\u001b[1;34m\u001b[0m\n\u001b[1;32m----> 1\u001b[1;33m \u001b[0mpullUri\u001b[0m\u001b[1;33m(\u001b[0m\u001b[1;36m1\u001b[0m\u001b[1;33m)\u001b[0m\u001b[1;33m\u001b[0m\u001b[1;33m\u001b[0m\u001b[0m\n\u001b[0m",
      "\u001b[1;32m<ipython-input-17-1bdcd93ce0b2>\u001b[0m in \u001b[0;36mpullUri\u001b[1;34m(token_id)\u001b[0m\n\u001b[0;32m      1\u001b[0m \u001b[1;32mdef\u001b[0m \u001b[0mpullUri\u001b[0m\u001b[1;33m(\u001b[0m\u001b[0mtoken_id\u001b[0m\u001b[1;33m)\u001b[0m\u001b[1;33m:\u001b[0m\u001b[1;33m\u001b[0m\u001b[1;33m\u001b[0m\u001b[0m\n\u001b[0;32m      2\u001b[0m     \u001b[0mtx_hash\u001b[0m \u001b[1;33m=\u001b[0m \u001b[0msmart_contract\u001b[0m\u001b[1;33m.\u001b[0m\u001b[0mfunctions\u001b[0m\u001b[1;33m.\u001b[0m\u001b[0mtokenURI\u001b[0m\u001b[1;33m(\u001b[0m\u001b[0mtoken_id\u001b[0m\u001b[1;33m)\u001b[0m\u001b[1;33m.\u001b[0m\u001b[0mcall\u001b[0m\u001b[1;33m(\u001b[0m\u001b[1;33m)\u001b[0m\u001b[1;33m\u001b[0m\u001b[1;33m\u001b[0m\u001b[0m\n\u001b[1;32m----> 3\u001b[1;33m     \u001b[0mreceipt\u001b[0m \u001b[1;33m=\u001b[0m \u001b[0mw3\u001b[0m\u001b[1;33m.\u001b[0m\u001b[0meth\u001b[0m\u001b[1;33m.\u001b[0m\u001b[0mwaitForTransactionReceipt\u001b[0m\u001b[1;33m(\u001b[0m\u001b[0mtx_hash\u001b[0m\u001b[1;33m)\u001b[0m\u001b[1;33m\u001b[0m\u001b[1;33m\u001b[0m\u001b[0m\n\u001b[0m\u001b[0;32m      4\u001b[0m     \u001b[1;32mreturn\u001b[0m \u001b[0mreceipt\u001b[0m\u001b[1;33m\u001b[0m\u001b[1;33m\u001b[0m\u001b[0m\n",
      "\u001b[1;32m~\\anaconda3\\envs\\ethereum\\lib\\site-packages\\web3\\_utils\\decorators.py\u001b[0m in \u001b[0;36mwrapper\u001b[1;34m(*args, **kwargs)\u001b[0m\n\u001b[0;32m     49\u001b[0m                 \u001b[1;34mf\"{to_wrap.__name__} is deprecated in favor of {replace_message}\"\u001b[0m\u001b[1;33m,\u001b[0m\u001b[1;33m\u001b[0m\u001b[1;33m\u001b[0m\u001b[0m\n\u001b[0;32m     50\u001b[0m                 category=DeprecationWarning)\n\u001b[1;32m---> 51\u001b[1;33m             \u001b[1;32mreturn\u001b[0m \u001b[0mto_wrap\u001b[0m\u001b[1;33m(\u001b[0m\u001b[1;33m*\u001b[0m\u001b[0margs\u001b[0m\u001b[1;33m,\u001b[0m \u001b[1;33m**\u001b[0m\u001b[0mkwargs\u001b[0m\u001b[1;33m)\u001b[0m\u001b[1;33m\u001b[0m\u001b[1;33m\u001b[0m\u001b[0m\n\u001b[0m\u001b[0;32m     52\u001b[0m         \u001b[1;32mreturn\u001b[0m \u001b[0mcast\u001b[0m\u001b[1;33m(\u001b[0m\u001b[0mTFunc\u001b[0m\u001b[1;33m,\u001b[0m \u001b[0mwrapper\u001b[0m\u001b[1;33m)\u001b[0m\u001b[1;33m\u001b[0m\u001b[1;33m\u001b[0m\u001b[0m\n\u001b[0;32m     53\u001b[0m     \u001b[1;32mreturn\u001b[0m \u001b[0mdecorator\u001b[0m\u001b[1;33m\u001b[0m\u001b[1;33m\u001b[0m\u001b[0m\n",
      "\u001b[1;32m~\\anaconda3\\envs\\ethereum\\lib\\site-packages\\web3\\eth.py\u001b[0m in \u001b[0;36mwaitForTransactionReceipt\u001b[1;34m(self, transaction_hash, timeout, poll_latency)\u001b[0m\n\u001b[0;32m    633\u001b[0m         \u001b[0mself\u001b[0m\u001b[1;33m,\u001b[0m \u001b[0mtransaction_hash\u001b[0m\u001b[1;33m:\u001b[0m \u001b[0m_Hash32\u001b[0m\u001b[1;33m,\u001b[0m \u001b[0mtimeout\u001b[0m\u001b[1;33m:\u001b[0m \u001b[0mint\u001b[0m \u001b[1;33m=\u001b[0m \u001b[1;36m120\u001b[0m\u001b[1;33m,\u001b[0m \u001b[0mpoll_latency\u001b[0m\u001b[1;33m:\u001b[0m \u001b[0mfloat\u001b[0m \u001b[1;33m=\u001b[0m \u001b[1;36m0.1\u001b[0m\u001b[1;33m\u001b[0m\u001b[1;33m\u001b[0m\u001b[0m\n\u001b[0;32m    634\u001b[0m     ) -> TxReceipt:\n\u001b[1;32m--> 635\u001b[1;33m         \u001b[1;32mreturn\u001b[0m \u001b[0mself\u001b[0m\u001b[1;33m.\u001b[0m\u001b[0mwait_for_transaction_receipt\u001b[0m\u001b[1;33m(\u001b[0m\u001b[0mtransaction_hash\u001b[0m\u001b[1;33m,\u001b[0m \u001b[0mtimeout\u001b[0m\u001b[1;33m,\u001b[0m \u001b[0mpoll_latency\u001b[0m\u001b[1;33m)\u001b[0m\u001b[1;33m\u001b[0m\u001b[1;33m\u001b[0m\u001b[0m\n\u001b[0m\u001b[0;32m    636\u001b[0m \u001b[1;33m\u001b[0m\u001b[0m\n\u001b[0;32m    637\u001b[0m     def wait_for_transaction_receipt(\n",
      "\u001b[1;32m~\\anaconda3\\envs\\ethereum\\lib\\site-packages\\web3\\eth.py\u001b[0m in \u001b[0;36mwait_for_transaction_receipt\u001b[1;34m(self, transaction_hash, timeout, poll_latency)\u001b[0m\n\u001b[0;32m    639\u001b[0m     ) -> TxReceipt:\n\u001b[0;32m    640\u001b[0m         \u001b[1;32mtry\u001b[0m\u001b[1;33m:\u001b[0m\u001b[1;33m\u001b[0m\u001b[1;33m\u001b[0m\u001b[0m\n\u001b[1;32m--> 641\u001b[1;33m             \u001b[1;32mreturn\u001b[0m \u001b[0mwait_for_transaction_receipt\u001b[0m\u001b[1;33m(\u001b[0m\u001b[0mself\u001b[0m\u001b[1;33m.\u001b[0m\u001b[0mweb3\u001b[0m\u001b[1;33m,\u001b[0m \u001b[0mtransaction_hash\u001b[0m\u001b[1;33m,\u001b[0m \u001b[0mtimeout\u001b[0m\u001b[1;33m,\u001b[0m \u001b[0mpoll_latency\u001b[0m\u001b[1;33m)\u001b[0m\u001b[1;33m\u001b[0m\u001b[1;33m\u001b[0m\u001b[0m\n\u001b[0m\u001b[0;32m    642\u001b[0m         \u001b[1;32mexcept\u001b[0m \u001b[0mTimeout\u001b[0m\u001b[1;33m:\u001b[0m\u001b[1;33m\u001b[0m\u001b[1;33m\u001b[0m\u001b[0m\n\u001b[0;32m    643\u001b[0m             raise TimeExhausted(\n",
      "\u001b[1;32m~\\anaconda3\\envs\\ethereum\\lib\\site-packages\\web3\\_utils\\transactions.py\u001b[0m in \u001b[0;36mwait_for_transaction_receipt\u001b[1;34m(web3, txn_hash, timeout, poll_latency)\u001b[0m\n\u001b[0;32m    121\u001b[0m         \u001b[1;32mwhile\u001b[0m \u001b[1;32mTrue\u001b[0m\u001b[1;33m:\u001b[0m\u001b[1;33m\u001b[0m\u001b[1;33m\u001b[0m\u001b[0m\n\u001b[0;32m    122\u001b[0m             \u001b[1;32mtry\u001b[0m\u001b[1;33m:\u001b[0m\u001b[1;33m\u001b[0m\u001b[1;33m\u001b[0m\u001b[0m\n\u001b[1;32m--> 123\u001b[1;33m                 \u001b[0mtxn_receipt\u001b[0m \u001b[1;33m=\u001b[0m \u001b[0mweb3\u001b[0m\u001b[1;33m.\u001b[0m\u001b[0meth\u001b[0m\u001b[1;33m.\u001b[0m\u001b[0mget_transaction_receipt\u001b[0m\u001b[1;33m(\u001b[0m\u001b[0mtxn_hash\u001b[0m\u001b[1;33m)\u001b[0m\u001b[1;33m\u001b[0m\u001b[1;33m\u001b[0m\u001b[0m\n\u001b[0m\u001b[0;32m    124\u001b[0m             \u001b[1;32mexcept\u001b[0m \u001b[0mTransactionNotFound\u001b[0m\u001b[1;33m:\u001b[0m\u001b[1;33m\u001b[0m\u001b[1;33m\u001b[0m\u001b[0m\n\u001b[0;32m    125\u001b[0m                 \u001b[0mtxn_receipt\u001b[0m \u001b[1;33m=\u001b[0m \u001b[1;32mNone\u001b[0m\u001b[1;33m\u001b[0m\u001b[1;33m\u001b[0m\u001b[0m\n",
      "\u001b[1;32m~\\anaconda3\\envs\\ethereum\\lib\\site-packages\\web3\\module.py\u001b[0m in \u001b[0;36mcaller\u001b[1;34m(*args, **kwargs)\u001b[0m\n\u001b[0;32m     51\u001b[0m     \u001b[1;32mdef\u001b[0m \u001b[0mcaller\u001b[0m\u001b[1;33m(\u001b[0m\u001b[1;33m*\u001b[0m\u001b[0margs\u001b[0m\u001b[1;33m:\u001b[0m \u001b[0mAny\u001b[0m\u001b[1;33m,\u001b[0m \u001b[1;33m**\u001b[0m\u001b[0mkwargs\u001b[0m\u001b[1;33m:\u001b[0m \u001b[0mAny\u001b[0m\u001b[1;33m)\u001b[0m \u001b[1;33m->\u001b[0m \u001b[0mUnion\u001b[0m\u001b[1;33m[\u001b[0m\u001b[0mTReturn\u001b[0m\u001b[1;33m,\u001b[0m \u001b[0mLogFilter\u001b[0m\u001b[1;33m]\u001b[0m\u001b[1;33m:\u001b[0m\u001b[1;33m\u001b[0m\u001b[1;33m\u001b[0m\u001b[0m\n\u001b[0;32m     52\u001b[0m         \u001b[1;32mtry\u001b[0m\u001b[1;33m:\u001b[0m\u001b[1;33m\u001b[0m\u001b[1;33m\u001b[0m\u001b[0m\n\u001b[1;32m---> 53\u001b[1;33m             \u001b[1;33m(\u001b[0m\u001b[0mmethod_str\u001b[0m\u001b[1;33m,\u001b[0m \u001b[0mparams\u001b[0m\u001b[1;33m)\u001b[0m\u001b[1;33m,\u001b[0m \u001b[0mresponse_formatters\u001b[0m \u001b[1;33m=\u001b[0m \u001b[0mmethod\u001b[0m\u001b[1;33m.\u001b[0m\u001b[0mprocess_params\u001b[0m\u001b[1;33m(\u001b[0m\u001b[0mmodule\u001b[0m\u001b[1;33m,\u001b[0m \u001b[1;33m*\u001b[0m\u001b[0margs\u001b[0m\u001b[1;33m,\u001b[0m \u001b[1;33m**\u001b[0m\u001b[0mkwargs\u001b[0m\u001b[1;33m)\u001b[0m  \u001b[1;31m# noqa: E501\u001b[0m\u001b[1;33m\u001b[0m\u001b[1;33m\u001b[0m\u001b[0m\n\u001b[0m\u001b[0;32m     54\u001b[0m         \u001b[1;32mexcept\u001b[0m \u001b[0m_UseExistingFilter\u001b[0m \u001b[1;32mas\u001b[0m \u001b[0merr\u001b[0m\u001b[1;33m:\u001b[0m\u001b[1;33m\u001b[0m\u001b[1;33m\u001b[0m\u001b[0m\n\u001b[0;32m     55\u001b[0m             \u001b[1;32mreturn\u001b[0m \u001b[0mLogFilter\u001b[0m\u001b[1;33m(\u001b[0m\u001b[0meth_module\u001b[0m\u001b[1;33m=\u001b[0m\u001b[0mmodule\u001b[0m\u001b[1;33m,\u001b[0m \u001b[0mfilter_id\u001b[0m\u001b[1;33m=\u001b[0m\u001b[0merr\u001b[0m\u001b[1;33m.\u001b[0m\u001b[0mfilter_id\u001b[0m\u001b[1;33m)\u001b[0m\u001b[1;33m\u001b[0m\u001b[1;33m\u001b[0m\u001b[0m\n",
      "\u001b[1;32m~\\anaconda3\\envs\\ethereum\\lib\\site-packages\\web3\\method.py\u001b[0m in \u001b[0;36mprocess_params\u001b[1;34m(self, module, *args, **kwargs)\u001b[0m\n\u001b[0;32m    200\u001b[0m \u001b[1;33m\u001b[0m\u001b[0m\n\u001b[0;32m    201\u001b[0m         request = (method,\n\u001b[1;32m--> 202\u001b[1;33m                    _apply_request_formatters(params, self.request_formatters(method)))\n\u001b[0m\u001b[0;32m    203\u001b[0m \u001b[1;33m\u001b[0m\u001b[0m\n\u001b[0;32m    204\u001b[0m         \u001b[1;32mreturn\u001b[0m \u001b[0mrequest\u001b[0m\u001b[1;33m,\u001b[0m \u001b[0mresponse_formatters\u001b[0m\u001b[1;33m\u001b[0m\u001b[1;33m\u001b[0m\u001b[0m\n",
      "\u001b[1;32m~\\anaconda3\\envs\\ethereum\\lib\\site-packages\\eth_utils\\functional.py\u001b[0m in \u001b[0;36minner\u001b[1;34m(*args, **kwargs)\u001b[0m\n\u001b[0;32m     43\u001b[0m         \u001b[1;33m@\u001b[0m\u001b[0mfunctools\u001b[0m\u001b[1;33m.\u001b[0m\u001b[0mwraps\u001b[0m\u001b[1;33m(\u001b[0m\u001b[0mfn\u001b[0m\u001b[1;33m)\u001b[0m\u001b[1;33m\u001b[0m\u001b[1;33m\u001b[0m\u001b[0m\n\u001b[0;32m     44\u001b[0m         \u001b[1;32mdef\u001b[0m \u001b[0minner\u001b[0m\u001b[1;33m(\u001b[0m\u001b[1;33m*\u001b[0m\u001b[0margs\u001b[0m\u001b[1;33m,\u001b[0m \u001b[1;33m**\u001b[0m\u001b[0mkwargs\u001b[0m\u001b[1;33m)\u001b[0m \u001b[1;33m->\u001b[0m \u001b[0mT\u001b[0m\u001b[1;33m:\u001b[0m  \u001b[1;31m# type: ignore\u001b[0m\u001b[1;33m\u001b[0m\u001b[1;33m\u001b[0m\u001b[0m\n\u001b[1;32m---> 45\u001b[1;33m             \u001b[1;32mreturn\u001b[0m \u001b[0mcallback\u001b[0m\u001b[1;33m(\u001b[0m\u001b[0mfn\u001b[0m\u001b[1;33m(\u001b[0m\u001b[1;33m*\u001b[0m\u001b[0margs\u001b[0m\u001b[1;33m,\u001b[0m \u001b[1;33m**\u001b[0m\u001b[0mkwargs\u001b[0m\u001b[1;33m)\u001b[0m\u001b[1;33m)\u001b[0m\u001b[1;33m\u001b[0m\u001b[1;33m\u001b[0m\u001b[0m\n\u001b[0m\u001b[0;32m     46\u001b[0m \u001b[1;33m\u001b[0m\u001b[0m\n\u001b[0;32m     47\u001b[0m         \u001b[1;32mreturn\u001b[0m \u001b[0minner\u001b[0m\u001b[1;33m\u001b[0m\u001b[1;33m\u001b[0m\u001b[0m\n",
      "\u001b[1;32m~\\anaconda3\\envs\\ethereum\\lib\\site-packages\\web3\\method.py\u001b[0m in \u001b[0;36m_apply_request_formatters\u001b[1;34m(params, request_formatters)\u001b[0m\n\u001b[0;32m     50\u001b[0m ) -> Tuple[Any, ...]:\n\u001b[0;32m     51\u001b[0m     \u001b[1;32mif\u001b[0m \u001b[0mrequest_formatters\u001b[0m\u001b[1;33m:\u001b[0m\u001b[1;33m\u001b[0m\u001b[1;33m\u001b[0m\u001b[0m\n\u001b[1;32m---> 52\u001b[1;33m         \u001b[0mformatted_params\u001b[0m \u001b[1;33m=\u001b[0m \u001b[0mpipe\u001b[0m\u001b[1;33m(\u001b[0m\u001b[0mparams\u001b[0m\u001b[1;33m,\u001b[0m \u001b[0mrequest_formatters\u001b[0m\u001b[1;33m)\u001b[0m\u001b[1;33m\u001b[0m\u001b[1;33m\u001b[0m\u001b[0m\n\u001b[0m\u001b[0;32m     53\u001b[0m         \u001b[1;32mreturn\u001b[0m \u001b[0mformatted_params\u001b[0m\u001b[1;33m\u001b[0m\u001b[1;33m\u001b[0m\u001b[0m\n\u001b[0;32m     54\u001b[0m     \u001b[1;32mreturn\u001b[0m \u001b[0mparams\u001b[0m\u001b[1;33m\u001b[0m\u001b[1;33m\u001b[0m\u001b[0m\n",
      "\u001b[1;32m~\\anaconda3\\envs\\ethereum\\lib\\site-packages\\cytoolz\\functoolz.pyx\u001b[0m in \u001b[0;36mcytoolz.functoolz.pipe\u001b[1;34m()\u001b[0m\n",
      "\u001b[1;32m~\\anaconda3\\envs\\ethereum\\lib\\site-packages\\cytoolz\\functoolz.pyx\u001b[0m in \u001b[0;36mcytoolz.functoolz.c_pipe\u001b[1;34m()\u001b[0m\n",
      "\u001b[1;32m~\\anaconda3\\envs\\ethereum\\lib\\site-packages\\cytoolz\\functoolz.pyx\u001b[0m in \u001b[0;36mcytoolz.functoolz.curry.__call__\u001b[1;34m()\u001b[0m\n",
      "\u001b[1;32m~\\anaconda3\\envs\\ethereum\\lib\\site-packages\\web3\\_utils\\abi.py\u001b[0m in \u001b[0;36mmap_abi_data\u001b[1;34m(normalizers, types, data)\u001b[0m\n\u001b[0;32m    797\u001b[0m     )\n\u001b[0;32m    798\u001b[0m \u001b[1;33m\u001b[0m\u001b[0m\n\u001b[1;32m--> 799\u001b[1;33m     \u001b[1;32mreturn\u001b[0m \u001b[0mpipe\u001b[0m\u001b[1;33m(\u001b[0m\u001b[0mdata\u001b[0m\u001b[1;33m,\u001b[0m \u001b[1;33m*\u001b[0m\u001b[0mpipeline\u001b[0m\u001b[1;33m)\u001b[0m\u001b[1;33m\u001b[0m\u001b[1;33m\u001b[0m\u001b[0m\n\u001b[0m\u001b[0;32m    800\u001b[0m \u001b[1;33m\u001b[0m\u001b[0m\n\u001b[0;32m    801\u001b[0m \u001b[1;33m\u001b[0m\u001b[0m\n",
      "\u001b[1;32m~\\anaconda3\\envs\\ethereum\\lib\\site-packages\\cytoolz\\functoolz.pyx\u001b[0m in \u001b[0;36mcytoolz.functoolz.pipe\u001b[1;34m()\u001b[0m\n",
      "\u001b[1;32m~\\anaconda3\\envs\\ethereum\\lib\\site-packages\\cytoolz\\functoolz.pyx\u001b[0m in \u001b[0;36mcytoolz.functoolz.c_pipe\u001b[1;34m()\u001b[0m\n",
      "\u001b[1;32m~\\anaconda3\\envs\\ethereum\\lib\\site-packages\\cytoolz\\functoolz.pyx\u001b[0m in \u001b[0;36mcytoolz.functoolz.curry.__call__\u001b[1;34m()\u001b[0m\n",
      "\u001b[1;32m~\\anaconda3\\envs\\ethereum\\lib\\site-packages\\web3\\_utils\\abi.py\u001b[0m in \u001b[0;36mdata_tree_map\u001b[1;34m(func, data_tree)\u001b[0m\n\u001b[0;32m    831\u001b[0m         \u001b[1;32melse\u001b[0m\u001b[1;33m:\u001b[0m\u001b[1;33m\u001b[0m\u001b[1;33m\u001b[0m\u001b[0m\n\u001b[0;32m    832\u001b[0m             \u001b[1;32mreturn\u001b[0m \u001b[0melements\u001b[0m\u001b[1;33m\u001b[0m\u001b[1;33m\u001b[0m\u001b[0m\n\u001b[1;32m--> 833\u001b[1;33m     \u001b[1;32mreturn\u001b[0m \u001b[0mrecursive_map\u001b[0m\u001b[1;33m(\u001b[0m\u001b[0mmap_to_typed_data\u001b[0m\u001b[1;33m,\u001b[0m \u001b[0mdata_tree\u001b[0m\u001b[1;33m)\u001b[0m\u001b[1;33m\u001b[0m\u001b[1;33m\u001b[0m\u001b[0m\n\u001b[0m\u001b[0;32m    834\u001b[0m \u001b[1;33m\u001b[0m\u001b[0m\n\u001b[0;32m    835\u001b[0m \u001b[1;33m\u001b[0m\u001b[0m\n",
      "\u001b[1;32m~\\anaconda3\\envs\\ethereum\\lib\\site-packages\\web3\\_utils\\decorators.py\u001b[0m in \u001b[0;36mwrapped\u001b[1;34m(*args)\u001b[0m\n\u001b[0;32m     28\u001b[0m         \u001b[0mto_wrap\u001b[0m\u001b[1;33m.\u001b[0m\u001b[0m__already_called\u001b[0m\u001b[1;33m[\u001b[0m\u001b[0mthread_local_args\u001b[0m\u001b[1;33m]\u001b[0m \u001b[1;33m=\u001b[0m \u001b[1;32mTrue\u001b[0m  \u001b[1;31m# type: ignore\u001b[0m\u001b[1;33m\u001b[0m\u001b[1;33m\u001b[0m\u001b[0m\n\u001b[0;32m     29\u001b[0m         \u001b[1;32mtry\u001b[0m\u001b[1;33m:\u001b[0m\u001b[1;33m\u001b[0m\u001b[1;33m\u001b[0m\u001b[0m\n\u001b[1;32m---> 30\u001b[1;33m             \u001b[0mwrapped_val\u001b[0m \u001b[1;33m=\u001b[0m \u001b[0mto_wrap\u001b[0m\u001b[1;33m(\u001b[0m\u001b[1;33m*\u001b[0m\u001b[0margs\u001b[0m\u001b[1;33m)\u001b[0m\u001b[1;33m\u001b[0m\u001b[1;33m\u001b[0m\u001b[0m\n\u001b[0m\u001b[0;32m     31\u001b[0m         \u001b[1;32mfinally\u001b[0m\u001b[1;33m:\u001b[0m\u001b[1;33m\u001b[0m\u001b[1;33m\u001b[0m\u001b[0m\n\u001b[0;32m     32\u001b[0m             \u001b[1;32mdel\u001b[0m \u001b[0mto_wrap\u001b[0m\u001b[1;33m.\u001b[0m\u001b[0m__already_called\u001b[0m\u001b[1;33m[\u001b[0m\u001b[0mthread_local_args\u001b[0m\u001b[1;33m]\u001b[0m  \u001b[1;31m# type: ignore\u001b[0m\u001b[1;33m\u001b[0m\u001b[1;33m\u001b[0m\u001b[0m\n",
      "\u001b[1;32m~\\anaconda3\\envs\\ethereum\\lib\\site-packages\\web3\\_utils\\formatters.py\u001b[0m in \u001b[0;36mrecursive_map\u001b[1;34m(func, data)\u001b[0m\n\u001b[0;32m     87\u001b[0m     \u001b[1;32mdef\u001b[0m \u001b[0mrecurse\u001b[0m\u001b[1;33m(\u001b[0m\u001b[0mitem\u001b[0m\u001b[1;33m:\u001b[0m \u001b[0mAny\u001b[0m\u001b[1;33m)\u001b[0m \u001b[1;33m->\u001b[0m \u001b[0mTReturn\u001b[0m\u001b[1;33m:\u001b[0m\u001b[1;33m\u001b[0m\u001b[1;33m\u001b[0m\u001b[0m\n\u001b[0;32m     88\u001b[0m         \u001b[1;32mreturn\u001b[0m \u001b[0mrecursive_map\u001b[0m\u001b[1;33m(\u001b[0m\u001b[0mfunc\u001b[0m\u001b[1;33m,\u001b[0m \u001b[0mitem\u001b[0m\u001b[1;33m)\u001b[0m\u001b[1;33m\u001b[0m\u001b[1;33m\u001b[0m\u001b[0m\n\u001b[1;32m---> 89\u001b[1;33m     \u001b[0mitems_mapped\u001b[0m \u001b[1;33m=\u001b[0m \u001b[0mmap_collection\u001b[0m\u001b[1;33m(\u001b[0m\u001b[0mrecurse\u001b[0m\u001b[1;33m,\u001b[0m \u001b[0mdata\u001b[0m\u001b[1;33m)\u001b[0m\u001b[1;33m\u001b[0m\u001b[1;33m\u001b[0m\u001b[0m\n\u001b[0m\u001b[0;32m     90\u001b[0m     \u001b[1;32mreturn\u001b[0m \u001b[0mfunc\u001b[0m\u001b[1;33m(\u001b[0m\u001b[0mitems_mapped\u001b[0m\u001b[1;33m)\u001b[0m\u001b[1;33m\u001b[0m\u001b[1;33m\u001b[0m\u001b[0m\n\u001b[0;32m     91\u001b[0m \u001b[1;33m\u001b[0m\u001b[0m\n",
      "\u001b[1;32m~\\anaconda3\\envs\\ethereum\\lib\\site-packages\\web3\\_utils\\formatters.py\u001b[0m in \u001b[0;36mmap_collection\u001b[1;34m(func, collection)\u001b[0m\n\u001b[0;32m     74\u001b[0m         \u001b[1;32mreturn\u001b[0m \u001b[0mcollection\u001b[0m\u001b[1;33m\u001b[0m\u001b[1;33m\u001b[0m\u001b[0m\n\u001b[0;32m     75\u001b[0m     \u001b[1;32melif\u001b[0m \u001b[0misinstance\u001b[0m\u001b[1;33m(\u001b[0m\u001b[0mcollection\u001b[0m\u001b[1;33m,\u001b[0m \u001b[0mIterable\u001b[0m\u001b[1;33m)\u001b[0m\u001b[1;33m:\u001b[0m\u001b[1;33m\u001b[0m\u001b[1;33m\u001b[0m\u001b[0m\n\u001b[1;32m---> 76\u001b[1;33m         \u001b[1;32mreturn\u001b[0m \u001b[0mdatatype\u001b[0m\u001b[1;33m(\u001b[0m\u001b[0mmap\u001b[0m\u001b[1;33m(\u001b[0m\u001b[0mfunc\u001b[0m\u001b[1;33m,\u001b[0m \u001b[0mcollection\u001b[0m\u001b[1;33m)\u001b[0m\u001b[1;33m)\u001b[0m\u001b[1;33m\u001b[0m\u001b[1;33m\u001b[0m\u001b[0m\n\u001b[0m\u001b[0;32m     77\u001b[0m     \u001b[1;32melse\u001b[0m\u001b[1;33m:\u001b[0m\u001b[1;33m\u001b[0m\u001b[1;33m\u001b[0m\u001b[0m\n\u001b[0;32m     78\u001b[0m         \u001b[1;32mreturn\u001b[0m \u001b[0mcollection\u001b[0m\u001b[1;33m\u001b[0m\u001b[1;33m\u001b[0m\u001b[0m\n",
      "\u001b[1;32m~\\anaconda3\\envs\\ethereum\\lib\\site-packages\\web3\\_utils\\formatters.py\u001b[0m in \u001b[0;36mrecurse\u001b[1;34m(item)\u001b[0m\n\u001b[0;32m     86\u001b[0m     \"\"\"\n\u001b[0;32m     87\u001b[0m     \u001b[1;32mdef\u001b[0m \u001b[0mrecurse\u001b[0m\u001b[1;33m(\u001b[0m\u001b[0mitem\u001b[0m\u001b[1;33m:\u001b[0m \u001b[0mAny\u001b[0m\u001b[1;33m)\u001b[0m \u001b[1;33m->\u001b[0m \u001b[0mTReturn\u001b[0m\u001b[1;33m:\u001b[0m\u001b[1;33m\u001b[0m\u001b[1;33m\u001b[0m\u001b[0m\n\u001b[1;32m---> 88\u001b[1;33m         \u001b[1;32mreturn\u001b[0m \u001b[0mrecursive_map\u001b[0m\u001b[1;33m(\u001b[0m\u001b[0mfunc\u001b[0m\u001b[1;33m,\u001b[0m \u001b[0mitem\u001b[0m\u001b[1;33m)\u001b[0m\u001b[1;33m\u001b[0m\u001b[1;33m\u001b[0m\u001b[0m\n\u001b[0m\u001b[0;32m     89\u001b[0m     \u001b[0mitems_mapped\u001b[0m \u001b[1;33m=\u001b[0m \u001b[0mmap_collection\u001b[0m\u001b[1;33m(\u001b[0m\u001b[0mrecurse\u001b[0m\u001b[1;33m,\u001b[0m \u001b[0mdata\u001b[0m\u001b[1;33m)\u001b[0m\u001b[1;33m\u001b[0m\u001b[1;33m\u001b[0m\u001b[0m\n\u001b[0;32m     90\u001b[0m     \u001b[1;32mreturn\u001b[0m \u001b[0mfunc\u001b[0m\u001b[1;33m(\u001b[0m\u001b[0mitems_mapped\u001b[0m\u001b[1;33m)\u001b[0m\u001b[1;33m\u001b[0m\u001b[1;33m\u001b[0m\u001b[0m\n",
      "\u001b[1;32m~\\anaconda3\\envs\\ethereum\\lib\\site-packages\\web3\\_utils\\decorators.py\u001b[0m in \u001b[0;36mwrapped\u001b[1;34m(*args)\u001b[0m\n\u001b[0;32m     28\u001b[0m         \u001b[0mto_wrap\u001b[0m\u001b[1;33m.\u001b[0m\u001b[0m__already_called\u001b[0m\u001b[1;33m[\u001b[0m\u001b[0mthread_local_args\u001b[0m\u001b[1;33m]\u001b[0m \u001b[1;33m=\u001b[0m \u001b[1;32mTrue\u001b[0m  \u001b[1;31m# type: ignore\u001b[0m\u001b[1;33m\u001b[0m\u001b[1;33m\u001b[0m\u001b[0m\n\u001b[0;32m     29\u001b[0m         \u001b[1;32mtry\u001b[0m\u001b[1;33m:\u001b[0m\u001b[1;33m\u001b[0m\u001b[1;33m\u001b[0m\u001b[0m\n\u001b[1;32m---> 30\u001b[1;33m             \u001b[0mwrapped_val\u001b[0m \u001b[1;33m=\u001b[0m \u001b[0mto_wrap\u001b[0m\u001b[1;33m(\u001b[0m\u001b[1;33m*\u001b[0m\u001b[0margs\u001b[0m\u001b[1;33m)\u001b[0m\u001b[1;33m\u001b[0m\u001b[1;33m\u001b[0m\u001b[0m\n\u001b[0m\u001b[0;32m     31\u001b[0m         \u001b[1;32mfinally\u001b[0m\u001b[1;33m:\u001b[0m\u001b[1;33m\u001b[0m\u001b[1;33m\u001b[0m\u001b[0m\n\u001b[0;32m     32\u001b[0m             \u001b[1;32mdel\u001b[0m \u001b[0mto_wrap\u001b[0m\u001b[1;33m.\u001b[0m\u001b[0m__already_called\u001b[0m\u001b[1;33m[\u001b[0m\u001b[0mthread_local_args\u001b[0m\u001b[1;33m]\u001b[0m  \u001b[1;31m# type: ignore\u001b[0m\u001b[1;33m\u001b[0m\u001b[1;33m\u001b[0m\u001b[0m\n",
      "\u001b[1;32m~\\anaconda3\\envs\\ethereum\\lib\\site-packages\\web3\\_utils\\formatters.py\u001b[0m in \u001b[0;36mrecursive_map\u001b[1;34m(func, data)\u001b[0m\n\u001b[0;32m     88\u001b[0m         \u001b[1;32mreturn\u001b[0m \u001b[0mrecursive_map\u001b[0m\u001b[1;33m(\u001b[0m\u001b[0mfunc\u001b[0m\u001b[1;33m,\u001b[0m \u001b[0mitem\u001b[0m\u001b[1;33m)\u001b[0m\u001b[1;33m\u001b[0m\u001b[1;33m\u001b[0m\u001b[0m\n\u001b[0;32m     89\u001b[0m     \u001b[0mitems_mapped\u001b[0m \u001b[1;33m=\u001b[0m \u001b[0mmap_collection\u001b[0m\u001b[1;33m(\u001b[0m\u001b[0mrecurse\u001b[0m\u001b[1;33m,\u001b[0m \u001b[0mdata\u001b[0m\u001b[1;33m)\u001b[0m\u001b[1;33m\u001b[0m\u001b[1;33m\u001b[0m\u001b[0m\n\u001b[1;32m---> 90\u001b[1;33m     \u001b[1;32mreturn\u001b[0m \u001b[0mfunc\u001b[0m\u001b[1;33m(\u001b[0m\u001b[0mitems_mapped\u001b[0m\u001b[1;33m)\u001b[0m\u001b[1;33m\u001b[0m\u001b[1;33m\u001b[0m\u001b[0m\n\u001b[0m\u001b[0;32m     91\u001b[0m \u001b[1;33m\u001b[0m\u001b[0m\n\u001b[0;32m     92\u001b[0m \u001b[1;33m\u001b[0m\u001b[0m\n",
      "\u001b[1;32m~\\anaconda3\\envs\\ethereum\\lib\\site-packages\\web3\\_utils\\abi.py\u001b[0m in \u001b[0;36mmap_to_typed_data\u001b[1;34m(elements)\u001b[0m\n\u001b[0;32m    828\u001b[0m     \u001b[1;32mdef\u001b[0m \u001b[0mmap_to_typed_data\u001b[0m\u001b[1;33m(\u001b[0m\u001b[0melements\u001b[0m\u001b[1;33m:\u001b[0m \u001b[0mAny\u001b[0m\u001b[1;33m)\u001b[0m \u001b[1;33m->\u001b[0m \u001b[1;34m\"ABITypedData\"\u001b[0m\u001b[1;33m:\u001b[0m\u001b[1;33m\u001b[0m\u001b[1;33m\u001b[0m\u001b[0m\n\u001b[0;32m    829\u001b[0m         \u001b[1;32mif\u001b[0m \u001b[0misinstance\u001b[0m\u001b[1;33m(\u001b[0m\u001b[0melements\u001b[0m\u001b[1;33m,\u001b[0m \u001b[0mABITypedData\u001b[0m\u001b[1;33m)\u001b[0m \u001b[1;32mand\u001b[0m \u001b[0melements\u001b[0m\u001b[1;33m.\u001b[0m\u001b[0mabi_type\u001b[0m \u001b[1;32mis\u001b[0m \u001b[1;32mnot\u001b[0m \u001b[1;32mNone\u001b[0m\u001b[1;33m:\u001b[0m\u001b[1;33m\u001b[0m\u001b[1;33m\u001b[0m\u001b[0m\n\u001b[1;32m--> 830\u001b[1;33m             \u001b[1;32mreturn\u001b[0m \u001b[0mABITypedData\u001b[0m\u001b[1;33m(\u001b[0m\u001b[0mfunc\u001b[0m\u001b[1;33m(\u001b[0m\u001b[1;33m*\u001b[0m\u001b[0melements\u001b[0m\u001b[1;33m)\u001b[0m\u001b[1;33m)\u001b[0m\u001b[1;33m\u001b[0m\u001b[1;33m\u001b[0m\u001b[0m\n\u001b[0m\u001b[0;32m    831\u001b[0m         \u001b[1;32melse\u001b[0m\u001b[1;33m:\u001b[0m\u001b[1;33m\u001b[0m\u001b[1;33m\u001b[0m\u001b[0m\n\u001b[0;32m    832\u001b[0m             \u001b[1;32mreturn\u001b[0m \u001b[0melements\u001b[0m\u001b[1;33m\u001b[0m\u001b[1;33m\u001b[0m\u001b[0m\n",
      "\u001b[1;32m~\\anaconda3\\envs\\ethereum\\lib\\site-packages\\web3\\_utils\\normalizers.py\u001b[0m in \u001b[0;36mwrapper\u001b[1;34m(type_str, data)\u001b[0m\n\u001b[0;32m     76\u001b[0m     \u001b[1;33m@\u001b[0m\u001b[0mfunctools\u001b[0m\u001b[1;33m.\u001b[0m\u001b[0mwraps\u001b[0m\u001b[1;33m(\u001b[0m\u001b[0mto_wrap\u001b[0m\u001b[1;33m)\u001b[0m\u001b[1;33m\u001b[0m\u001b[1;33m\u001b[0m\u001b[0m\n\u001b[0;32m     77\u001b[0m     \u001b[1;32mdef\u001b[0m \u001b[0mwrapper\u001b[0m\u001b[1;33m(\u001b[0m\u001b[0mtype_str\u001b[0m\u001b[1;33m:\u001b[0m \u001b[0mTypeStr\u001b[0m\u001b[1;33m,\u001b[0m \u001b[0mdata\u001b[0m\u001b[1;33m:\u001b[0m \u001b[0mAny\u001b[0m\u001b[1;33m)\u001b[0m \u001b[1;33m->\u001b[0m \u001b[0mTuple\u001b[0m\u001b[1;33m[\u001b[0m\u001b[0mTypeStr\u001b[0m\u001b[1;33m,\u001b[0m \u001b[0mAny\u001b[0m\u001b[1;33m]\u001b[0m\u001b[1;33m:\u001b[0m\u001b[1;33m\u001b[0m\u001b[1;33m\u001b[0m\u001b[0m\n\u001b[1;32m---> 78\u001b[1;33m         \u001b[0mmodified\u001b[0m \u001b[1;33m=\u001b[0m \u001b[0mto_wrap\u001b[0m\u001b[1;33m(\u001b[0m\u001b[0mtype_str\u001b[0m\u001b[1;33m,\u001b[0m \u001b[0mdata\u001b[0m\u001b[1;33m)\u001b[0m\u001b[1;33m\u001b[0m\u001b[1;33m\u001b[0m\u001b[0m\n\u001b[0m\u001b[0;32m     79\u001b[0m         \u001b[1;32mif\u001b[0m \u001b[0mmodified\u001b[0m \u001b[1;32mis\u001b[0m \u001b[1;32mNone\u001b[0m\u001b[1;33m:\u001b[0m\u001b[1;33m\u001b[0m\u001b[1;33m\u001b[0m\u001b[0m\n\u001b[0;32m     80\u001b[0m             \u001b[1;32mreturn\u001b[0m \u001b[0mtype_str\u001b[0m\u001b[1;33m,\u001b[0m \u001b[0mdata\u001b[0m\u001b[1;33m\u001b[0m\u001b[1;33m\u001b[0m\u001b[0m\n",
      "\u001b[1;32m~\\anaconda3\\envs\\ethereum\\lib\\site-packages\\web3\\_utils\\normalizers.py\u001b[0m in \u001b[0;36mnew_normalizer\u001b[1;34m(type_str, data)\u001b[0m\n\u001b[0;32m    127\u001b[0m             \u001b[1;32mreturn\u001b[0m \u001b[0mtype_str\u001b[0m\u001b[1;33m,\u001b[0m \u001b[0mdata\u001b[0m\u001b[1;33m\u001b[0m\u001b[1;33m\u001b[0m\u001b[0m\n\u001b[0;32m    128\u001b[0m \u001b[1;33m\u001b[0m\u001b[0m\n\u001b[1;32m--> 129\u001b[1;33m         \u001b[1;32mreturn\u001b[0m \u001b[0mold_normalizer\u001b[0m\u001b[1;33m(\u001b[0m\u001b[0mabi_type\u001b[0m\u001b[1;33m,\u001b[0m \u001b[0mtype_str\u001b[0m\u001b[1;33m,\u001b[0m \u001b[0mdata\u001b[0m\u001b[1;33m)\u001b[0m\u001b[1;33m\u001b[0m\u001b[1;33m\u001b[0m\u001b[0m\n\u001b[0m\u001b[0;32m    130\u001b[0m \u001b[1;33m\u001b[0m\u001b[0m\n\u001b[0;32m    131\u001b[0m     \u001b[1;32mreturn\u001b[0m \u001b[0mnew_normalizer\u001b[0m\u001b[1;33m\u001b[0m\u001b[1;33m\u001b[0m\u001b[0m\n",
      "\u001b[1;32m~\\anaconda3\\envs\\ethereum\\lib\\site-packages\\web3\\_utils\\normalizers.py\u001b[0m in \u001b[0;36mabi_bytes_to_hex\u001b[1;34m(abi_type, type_str, data)\u001b[0m\n\u001b[0;32m    140\u001b[0m         \u001b[1;32mreturn\u001b[0m \u001b[1;32mNone\u001b[0m\u001b[1;33m\u001b[0m\u001b[1;33m\u001b[0m\u001b[0m\n\u001b[0;32m    141\u001b[0m \u001b[1;33m\u001b[0m\u001b[0m\n\u001b[1;32m--> 142\u001b[1;33m     \u001b[0mbytes_data\u001b[0m \u001b[1;33m=\u001b[0m \u001b[0mhexstr_if_str\u001b[0m\u001b[1;33m(\u001b[0m\u001b[0mto_bytes\u001b[0m\u001b[1;33m,\u001b[0m \u001b[0mdata\u001b[0m\u001b[1;33m)\u001b[0m\u001b[1;33m\u001b[0m\u001b[1;33m\u001b[0m\u001b[0m\n\u001b[0m\u001b[0;32m    143\u001b[0m     \u001b[1;32mif\u001b[0m \u001b[0mabi_type\u001b[0m\u001b[1;33m.\u001b[0m\u001b[0msub\u001b[0m \u001b[1;32mis\u001b[0m \u001b[1;32mNone\u001b[0m\u001b[1;33m:\u001b[0m\u001b[1;33m\u001b[0m\u001b[1;33m\u001b[0m\u001b[0m\n\u001b[0;32m    144\u001b[0m         \u001b[1;32mreturn\u001b[0m \u001b[0mtype_str\u001b[0m\u001b[1;33m,\u001b[0m \u001b[0mto_hex\u001b[0m\u001b[1;33m(\u001b[0m\u001b[0mbytes_data\u001b[0m\u001b[1;33m)\u001b[0m\u001b[1;33m\u001b[0m\u001b[1;33m\u001b[0m\u001b[0m\n",
      "\u001b[1;32m~\\anaconda3\\envs\\ethereum\\lib\\site-packages\\cytoolz\\functoolz.pyx\u001b[0m in \u001b[0;36mcytoolz.functoolz.curry.__call__\u001b[1;34m()\u001b[0m\n",
      "\u001b[1;32m~\\anaconda3\\envs\\ethereum\\lib\\site-packages\\web3\\_utils\\encoding.py\u001b[0m in \u001b[0;36mhexstr_if_str\u001b[1;34m(to_type, hexstr_or_primitive)\u001b[0m\n\u001b[0;32m    171\u001b[0m             raise ValueError(\n\u001b[0;32m    172\u001b[0m                 \"when sending a str, it must be a hex string. Got: {0!r}\".format(\n\u001b[1;32m--> 173\u001b[1;33m                     \u001b[0mhexstr_or_primitive\u001b[0m\u001b[1;33m,\u001b[0m\u001b[1;33m\u001b[0m\u001b[1;33m\u001b[0m\u001b[0m\n\u001b[0m\u001b[0;32m    174\u001b[0m                 )\n\u001b[0;32m    175\u001b[0m             )\n",
      "\u001b[1;31mValueError\u001b[0m: when sending a str, it must be a hex string. Got: 'bafkreihpp6ltezf7tjgoj2dswsrzjoo3tt3dyqvgfqrpxcxlvu6wjj4b2a'"
     ]
    }
   ],
   "source": [
    "pullUri(1)"
   ]
  },
  {
   "cell_type": "code",
   "execution_count": null,
   "metadata": {},
   "outputs": [],
   "source": []
  }
 ],
 "metadata": {
  "kernelspec": {
   "display_name": "Python 3",
   "language": "python",
   "name": "python3"
  },
  "language_info": {
   "codemirror_mode": {
    "name": "ipython",
    "version": 3
   },
   "file_extension": ".py",
   "mimetype": "text/x-python",
   "name": "python",
   "nbconvert_exporter": "python",
   "pygments_lexer": "ipython3",
   "version": "3.7.10"
  }
 },
 "nbformat": 4,
 "nbformat_minor": 4
}
